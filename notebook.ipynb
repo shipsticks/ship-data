{
 "cells": [
  {
   "cell_type": "code",
   "execution_count": null,
   "metadata": {},
   "outputs": [],
   "source": [
    "%load_ext autoreload\n",
    "%autoreload 2\n",
    "\n",
    "import main"
   ]
  },
  {
   "cell_type": "code",
   "execution_count": null,
   "metadata": {},
   "outputs": [],
   "source": [
    "main.run_workflow()"
   ]
  },
  {
   "cell_type": "code",
   "execution_count": null,
   "metadata": {},
   "outputs": [],
   "source": [
    "main.run_sql(sql=\"select 1/0 as test\")"
   ]
  },
  {
   "cell_type": "code",
   "execution_count": null,
   "metadata": {},
   "outputs": [],
   "source": [
    "main.run_sql(sql_file=\"ad_spend.sql\")"
   ]
  },
  {
   "cell_type": "code",
   "execution_count": null,
   "metadata": {},
   "outputs": [],
   "source": [
    "main.run_sql(sql_file=\"finsum_metrics.sql\")"
   ]
  },
  {
   "cell_type": "code",
   "execution_count": null,
   "metadata": {},
   "outputs": [],
   "source": [
    "main.template_sql(\n",
    "    sql_file=\"template_finsum_metrics.sql\",\n",
    "    params=[\n",
    "        {\"report_date\": \"transaction_financial_date\"},\n",
    "        {\"report_date\": \"shipment_created_date\"},\n",
    "        {\"report_date\": \"shipment_actual_delivery_date\"},\n",
    "    ],\n",
    ")"
   ]
  },
  {
   "cell_type": "code",
   "execution_count": null,
   "metadata": {},
   "outputs": [],
   "source": [
    "main.finsum_metrics_union()"
   ]
  },
  {
   "cell_type": "code",
   "execution_count": null,
   "metadata": {},
   "outputs": [],
   "source": [
    "from google.cloud import bigquery\n",
    "GCP_PROJECT = \"gse-dw-prod\"\n",
    "\n",
    "client = bigquery.Client(project=GCP_PROJECT)\n",
    "bigquery_job = client.query(\"select 1/0 as test\")\n",
    "_ = bigquery_job.result()"
   ]
  },
  {
   "cell_type": "code",
   "execution_count": null,
   "metadata": {},
   "outputs": [],
   "source": [
    "# @logger.catch\n",
    "def test_fail() -> None:\n",
    "    logger.info(\"starting job: fail test\")\n",
    "    bigquery_job = bq_client.query(\"select 1/0 as test\")\n",
    "    _ = bigquery_job.result()\n",
    "    logger.info(f\"Completed job: {bigquery_job}\")"
   ]
  }
 ],
 "metadata": {
  "kernelspec": {
   "display_name": "dev",
   "language": "python",
   "name": "python3"
  },
  "language_info": {
   "codemirror_mode": {
    "name": "ipython",
    "version": 3
   },
   "file_extension": ".py",
   "mimetype": "text/x-python",
   "name": "python",
   "nbconvert_exporter": "python",
   "pygments_lexer": "ipython3",
   "version": "3.11.7"
  }
 },
 "nbformat": 4,
 "nbformat_minor": 2
}
