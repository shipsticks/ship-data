{
 "cells": [
  {
   "cell_type": "code",
   "execution_count": 2,
   "metadata": {},
   "outputs": [
    {
     "name": "stdout",
     "output_type": "stream",
     "text": [
      "The autoreload extension is already loaded. To reload it, use:\n",
      "  %reload_ext autoreload\n"
     ]
    }
   ],
   "source": [
    "%load_ext autoreload\n",
    "%autoreload 2\n",
    "\n",
    "import main"
   ]
  },
  {
   "cell_type": "code",
   "execution_count": 7,
   "metadata": {},
   "outputs": [
    {
     "name": "stderr",
     "output_type": "stream",
     "text": [
      "\u001b[32m2024-05-22 12:06:40.488\u001b[0m | \u001b[1mINFO    \u001b[0m | \u001b[36mmain\u001b[0m:\u001b[36mdiscovery_env\u001b[0m:\u001b[36m35\u001b[0m - \u001b[1mDiscovered files: ['.DS_Store', 'requirements.txt', 'notebook.ipynb', '__pycache__', 'README.md', '.gitignore', 'Procfile', '.git', 'main.py', 'sql']\u001b[0m\n",
      "\u001b[32m2024-05-22 12:06:40.489\u001b[0m | \u001b[1mINFO    \u001b[0m | \u001b[36mmain\u001b[0m:\u001b[36mrun_sql\u001b[0m:\u001b[36m24\u001b[0m - \u001b[1mExecuting: rudderstack_events.sql\u001b[0m\n"
     ]
    }
   ],
   "source": [
    "main.run_workflow()"
   ]
  },
  {
   "cell_type": "code",
   "execution_count": 6,
   "metadata": {},
   "outputs": [
    {
     "name": "stderr",
     "output_type": "stream",
     "text": [
      "\u001b[32m2024-05-22 12:04:22.716\u001b[0m | \u001b[1mINFO    \u001b[0m | \u001b[36mmain\u001b[0m:\u001b[36mrun_sql\u001b[0m:\u001b[36m24\u001b[0m - \u001b[1mExecuting: select 1/0 as test\u001b[0m\n",
      "\u001b[32m2024-05-22 12:04:23.421\u001b[0m | \u001b[31m\u001b[1mERROR   \u001b[0m | \u001b[36mmain\u001b[0m:\u001b[36mrun_sql\u001b[0m:\u001b[36m30\u001b[0m - \u001b[31m\u001b[1mError: select 1/0 as test\u001b[0m\n",
      "\u001b[33m\u001b[1mTraceback (most recent call last):\u001b[0m\n",
      "\n",
      "  File \"<frozen runpy>\", line 198, in _run_module_as_main\n",
      "  File \"<frozen runpy>\", line 88, in _run_code\n",
      "  File \"/Users/bobcolner/miniforge3/envs/dev/lib/python3.11/site-packages/ipykernel_launcher.py\", line 17, in <module>\n",
      "    app.launch_new_instance()\n",
      "    │   └ <bound method Application.launch_instance of <class 'ipykernel.kernelapp.IPKernelApp'>>\n",
      "    └ <module 'ipykernel.kernelapp' from '/Users/bobcolner/miniforge3/envs/dev/lib/python3.11/site-packages/ipykernel/kernelapp.py'>\n",
      "  File \"/Users/bobcolner/miniforge3/envs/dev/lib/python3.11/site-packages/traitlets/config/application.py\", line 1075, in launch_instance\n",
      "    app.start()\n",
      "    │   └ <function IPKernelApp.start at 0x10391f7e0>\n",
      "    └ <ipykernel.kernelapp.IPKernelApp object at 0x100a798d0>\n",
      "  File \"/Users/bobcolner/miniforge3/envs/dev/lib/python3.11/site-packages/ipykernel/kernelapp.py\", line 739, in start\n",
      "    self.io_loop.start()\n",
      "    │    │       └ <function BaseAsyncIOLoop.start at 0x10395b2e0>\n",
      "    │    └ <tornado.platform.asyncio.AsyncIOMainLoop object at 0x1039631d0>\n",
      "    └ <ipykernel.kernelapp.IPKernelApp object at 0x100a798d0>\n",
      "  File \"/Users/bobcolner/miniforge3/envs/dev/lib/python3.11/site-packages/tornado/platform/asyncio.py\", line 195, in start\n",
      "    self.asyncio_loop.run_forever()\n",
      "    │    │            └ <function BaseEventLoop.run_forever at 0x1016982c0>\n",
      "    │    └ <_UnixSelectorEventLoop running=True closed=False debug=False>\n",
      "    └ <tornado.platform.asyncio.AsyncIOMainLoop object at 0x1039631d0>\n",
      "  File \"/Users/bobcolner/miniforge3/envs/dev/lib/python3.11/asyncio/base_events.py\", line 607, in run_forever\n",
      "    self._run_once()\n",
      "    │    └ <function BaseEventLoop._run_once at 0x10169a0c0>\n",
      "    └ <_UnixSelectorEventLoop running=True closed=False debug=False>\n",
      "  File \"/Users/bobcolner/miniforge3/envs/dev/lib/python3.11/asyncio/base_events.py\", line 1922, in _run_once\n",
      "    handle._run()\n",
      "    │      └ <function Handle._run at 0x101622b60>\n",
      "    └ <Handle Task.task_wakeup(<Future finis...390>, ...],))>)>\n",
      "  File \"/Users/bobcolner/miniforge3/envs/dev/lib/python3.11/asyncio/events.py\", line 80, in _run\n",
      "    self._context.run(self._callback, *self._args)\n",
      "    │    │            │    │           │    └ <member '_args' of 'Handle' objects>\n",
      "    │    │            │    │           └ <Handle Task.task_wakeup(<Future finis...390>, ...],))>)>\n",
      "    │    │            │    └ <member '_callback' of 'Handle' objects>\n",
      "    │    │            └ <Handle Task.task_wakeup(<Future finis...390>, ...],))>)>\n",
      "    │    └ <member '_context' of 'Handle' objects>\n",
      "    └ <Handle Task.task_wakeup(<Future finis...390>, ...],))>)>\n",
      "  File \"/Users/bobcolner/miniforge3/envs/dev/lib/python3.11/site-packages/ipykernel/kernelbase.py\", line 542, in dispatch_queue\n",
      "    await self.process_one()\n",
      "          │    └ <function Kernel.process_one at 0x10335ba60>\n",
      "          └ <ipykernel.ipkernel.IPythonKernel object at 0x103984350>\n",
      "  File \"/Users/bobcolner/miniforge3/envs/dev/lib/python3.11/site-packages/ipykernel/kernelbase.py\", line 531, in process_one\n",
      "    await dispatch(*args)\n",
      "          │         └ ([<zmq.sugar.frame.Frame object at 0x103945fd0>, <zmq.sugar.frame.Frame object at 0x103946090>, <zmq.sugar.frame.Frame object...\n",
      "          └ <bound method Kernel.dispatch_shell of <ipykernel.ipkernel.IPythonKernel object at 0x103984350>>\n",
      "  File \"/Users/bobcolner/miniforge3/envs/dev/lib/python3.11/site-packages/ipykernel/kernelbase.py\", line 437, in dispatch_shell\n",
      "    await result\n",
      "          └ <coroutine object IPythonKernel.execute_request at 0x1394fb540>\n",
      "  File \"/Users/bobcolner/miniforge3/envs/dev/lib/python3.11/site-packages/ipykernel/ipkernel.py\", line 359, in execute_request\n",
      "    await super().execute_request(stream, ident, parent)\n",
      "                                  │       │      └ {'header': {'date': datetime.datetime(2024, 5, 22, 16, 4, 22, 429000, tzinfo=tzutc()), 'msg_id': '69168ab4-abec-45a9-b47c-2ad...\n",
      "                                  │       └ [b'03bfa96e-805b-4f00-ba62-b07b9fb18595']\n",
      "                                  └ <zmq.eventloop.zmqstream.ZMQStream object at 0x103962e10>\n",
      "  File \"/Users/bobcolner/miniforge3/envs/dev/lib/python3.11/site-packages/ipykernel/kernelbase.py\", line 775, in execute_request\n",
      "    reply_content = await reply_content\n",
      "                          └ <coroutine object IPythonKernel.do_execute at 0x1038fbba0>\n",
      "  File \"/Users/bobcolner/miniforge3/envs/dev/lib/python3.11/site-packages/ipykernel/ipkernel.py\", line 446, in do_execute\n",
      "    res = shell.run_cell(\n",
      "          │     └ <function ZMQInteractiveShell.run_cell at 0x10391c9a0>\n",
      "          └ <ipykernel.zmqshell.ZMQInteractiveShell object at 0x103985bd0>\n",
      "  File \"/Users/bobcolner/miniforge3/envs/dev/lib/python3.11/site-packages/ipykernel/zmqshell.py\", line 549, in run_cell\n",
      "    return super().run_cell(*args, **kwargs)\n",
      "                             │       └ {'store_history': True, 'silent': False, 'cell_id': 'vscode-notebook-cell:/Users/bobcolner/shipsticks/repos/ship-data/noteboo...\n",
      "                             └ ('main.run_sql(sql=\"select 1/0 as test\")',)\n",
      "  File \"/Users/bobcolner/miniforge3/envs/dev/lib/python3.11/site-packages/IPython/core/interactiveshell.py\", line 3051, in run_cell\n",
      "    result = self._run_cell(\n",
      "             │    └ <function InteractiveShell._run_cell at 0x10267bc40>\n",
      "             └ <ipykernel.zmqshell.ZMQInteractiveShell object at 0x103985bd0>\n",
      "  File \"/Users/bobcolner/miniforge3/envs/dev/lib/python3.11/site-packages/IPython/core/interactiveshell.py\", line 3106, in _run_cell\n",
      "    result = runner(coro)\n",
      "             │      └ <coroutine object InteractiveShell.run_cell_async at 0x103763920>\n",
      "             └ <function _pseudo_sync_runner at 0x102662de0>\n",
      "  File \"/Users/bobcolner/miniforge3/envs/dev/lib/python3.11/site-packages/IPython/core/async_helpers.py\", line 129, in _pseudo_sync_runner\n",
      "    coro.send(None)\n",
      "    │    └ <method 'send' of 'coroutine' objects>\n",
      "    └ <coroutine object InteractiveShell.run_cell_async at 0x103763920>\n",
      "  File \"/Users/bobcolner/miniforge3/envs/dev/lib/python3.11/site-packages/IPython/core/interactiveshell.py\", line 3311, in run_cell_async\n",
      "    has_raised = await self.run_ast_nodes(code_ast.body, cell_name,\n",
      "                       │    │             │        │     └ '/var/folders/dq/xv9szzyx47z13yj6bfhmjdk00000gn/T/ipykernel_23477/1401114093.py'\n",
      "                       │    │             │        └ [<ast.Expr object at 0x12f339060>]\n",
      "                       │    │             └ <ast.Module object at 0x1391d20e0>\n",
      "                       │    └ <function InteractiveShell.run_ast_nodes at 0x10267bf60>\n",
      "                       └ <ipykernel.zmqshell.ZMQInteractiveShell object at 0x103985bd0>\n",
      "  File \"/Users/bobcolner/miniforge3/envs/dev/lib/python3.11/site-packages/IPython/core/interactiveshell.py\", line 3493, in run_ast_nodes\n",
      "    if await self.run_code(code, result, async_=asy):\n",
      "             │    │        │     │              └ False\n",
      "             │    │        │     └ <ExecutionResult object at 138f1a350, execution_count=6 error_before_exec=None error_in_exec=None info=<ExecutionInfo object ...\n",
      "             │    │        └ <code object <module> at 0x13951e1f0, file \"/var/folders/dq/xv9szzyx47z13yj6bfhmjdk00000gn/T/ipykernel_23477/1401114093.py\", ...\n",
      "             │    └ <function InteractiveShell.run_code at 0x10267c040>\n",
      "             └ <ipykernel.zmqshell.ZMQInteractiveShell object at 0x103985bd0>\n",
      "  File \"/Users/bobcolner/miniforge3/envs/dev/lib/python3.11/site-packages/IPython/core/interactiveshell.py\", line 3553, in run_code\n",
      "    exec(code_obj, self.user_global_ns, self.user_ns)\n",
      "         │         │    │               │    └ {'__name__': '__main__', '__doc__': 'Automatically created module for IPython interactive environment', '__package__': None, ...\n",
      "         │         │    │               └ <ipykernel.zmqshell.ZMQInteractiveShell object at 0x103985bd0>\n",
      "         │         │    └ <property object at 0x102666d40>\n",
      "         │         └ <ipykernel.zmqshell.ZMQInteractiveShell object at 0x103985bd0>\n",
      "         └ <code object <module> at 0x13951e1f0, file \"/var/folders/dq/xv9szzyx47z13yj6bfhmjdk00000gn/T/ipykernel_23477/1401114093.py\", ...\n",
      "\n",
      "  File \"\u001b[32m/var/folders/dq/xv9szzyx47z13yj6bfhmjdk00000gn/T/ipykernel_23477/\u001b[0m\u001b[32m\u001b[1m1401114093.py\u001b[0m\", line \u001b[33m1\u001b[0m, in \u001b[35m<module>\u001b[0m\n",
      "    \u001b[1mmain\u001b[0m\u001b[35m\u001b[1m.\u001b[0m\u001b[1mrun_sql\u001b[0m\u001b[1m(\u001b[0m\u001b[1msql\u001b[0m\u001b[35m\u001b[1m=\u001b[0m\u001b[36m\"select 1/0 as test\"\u001b[0m\u001b[1m)\u001b[0m\n",
      "    \u001b[36m│    └ \u001b[0m\u001b[36m\u001b[1m<function run_sql at 0x13953d800>\u001b[0m\n",
      "    \u001b[36m└ \u001b[0m\u001b[36m\u001b[1m<module 'main' from '/Users/bobcolner/shipsticks/repos/ship-data/main.py'>\u001b[0m\n",
      "\n",
      "> File \"\u001b[32m/Users/bobcolner/shipsticks/repos/ship-data/\u001b[0m\u001b[32m\u001b[1mmain.py\u001b[0m\", line \u001b[33m27\u001b[0m, in \u001b[35mrun_sql\u001b[0m\n",
      "    \u001b[1m_\u001b[0m \u001b[35m\u001b[1m=\u001b[0m \u001b[1mbigquery_job\u001b[0m\u001b[35m\u001b[1m.\u001b[0m\u001b[1mresult\u001b[0m\u001b[1m(\u001b[0m\u001b[1m)\u001b[0m\n",
      "    \u001b[36m    │            └ \u001b[0m\u001b[36m\u001b[1m<function QueryJob.result at 0x12f2cc540>\u001b[0m\n",
      "    \u001b[36m    └ \u001b[0m\u001b[36m\u001b[1mQueryJob<project=gse-dw-prod, location=US, id=dfaf402b-6478-4798-8852-e2c87dcdcc19>\u001b[0m\n",
      "\n",
      "  File \"/Users/bobcolner/miniforge3/envs/dev/lib/python3.11/site-packages/google/cloud/bigquery/job/query.py\", line 1595, in result\n",
      "    do_get_result()\n",
      "    └ <function QueryJob.result.<locals>.do_get_result at 0x1394c7ec0>\n",
      "  File \"/Users/bobcolner/miniforge3/envs/dev/lib/python3.11/site-packages/google/api_core/retry.py\", line 372, in retry_wrapped_func\n",
      "    return retry_target(\n",
      "           └ <function retry_target at 0x109134360>\n",
      "  File \"/Users/bobcolner/miniforge3/envs/dev/lib/python3.11/site-packages/google/api_core/retry.py\", line 207, in retry_target\n",
      "    result = target()\n",
      "             └ functools.partial(<function QueryJob.result.<locals>.do_get_result at 0x1394c7ce0>)\n",
      "  File \"/Users/bobcolner/miniforge3/envs/dev/lib/python3.11/site-packages/google/cloud/bigquery/job/query.py\", line 1584, in do_get_result\n",
      "    super(QueryJob, self).result(retry=retry, timeout=timeout)\n",
      "          │         │                  │              └ None\n",
      "          │         │                  └ <google.api_core.retry.Retry object at 0x11f2b14d0>\n",
      "          │         └ QueryJob<project=gse-dw-prod, location=US, id=dfaf402b-6478-4798-8852-e2c87dcdcc19>\n",
      "          └ <class 'google.cloud.bigquery.job.query.QueryJob'>\n",
      "  File \"/Users/bobcolner/miniforge3/envs/dev/lib/python3.11/site-packages/google/cloud/bigquery/job/base.py\", line 971, in result\n",
      "    return super(_AsyncJob, self).result(timeout=timeout, **kwargs)\n",
      "                 │          │                    │          └ {}\n",
      "                 │          │                    └ None\n",
      "                 │          └ QueryJob<project=gse-dw-prod, location=US, id=dfaf402b-6478-4798-8852-e2c87dcdcc19>\n",
      "                 └ <class 'google.cloud.bigquery.job.base._AsyncJob'>\n",
      "  File \"/Users/bobcolner/miniforge3/envs/dev/lib/python3.11/site-packages/google/api_core/future/polling.py\", line 261, in result\n",
      "    raise self._exception\n",
      "          │    └ BadRequest('division by zero: 1 / 0; reason: invalidQuery, location: query, message: division by zero: 1 / 0')\n",
      "          └ QueryJob<project=gse-dw-prod, location=US, id=dfaf402b-6478-4798-8852-e2c87dcdcc19>\n",
      "\n",
      "\u001b[31m\u001b[1mgoogle.api_core.exceptions.BadRequest\u001b[0m:\u001b[1m 400 division by zero: 1 / 0; reason: invalidQuery, location: query, message: division by zero: 1 / 0\n",
      "\n",
      "Location: US\n",
      "Job ID: dfaf402b-6478-4798-8852-e2c87dcdcc19\n",
      "\u001b[0m\n"
     ]
    }
   ],
   "source": [
    "main.run_sql(sql=\"select 1/0 as test\")"
   ]
  },
  {
   "cell_type": "code",
   "execution_count": null,
   "metadata": {},
   "outputs": [],
   "source": [
    "from google.cloud import bigquery\n",
    "GCP_PROJECT = \"gse-dw-prod\"\n",
    "\n",
    "client = bigquery.Client(project=GCP_PROJECT)\n",
    "bigquery_job = client.query(\"select 1/0 as test\")\n",
    "_ = bigquery_job.result()"
   ]
  },
  {
   "cell_type": "code",
   "execution_count": null,
   "metadata": {},
   "outputs": [],
   "source": [
    "# @logger.catch\n",
    "def test_fail() -> None:\n",
    "    logger.info(\"starting job: fail test\")\n",
    "    bigquery_job = bq_client.query(\"select 1/0 as test\")\n",
    "    _ = bigquery_job.result()\n",
    "    logger.info(f\"Completed job: {bigquery_job}\")\n"
   ]
  }
 ],
 "metadata": {
  "kernelspec": {
   "display_name": "dev",
   "language": "python",
   "name": "python3"
  },
  "language_info": {
   "codemirror_mode": {
    "name": "ipython",
    "version": 3
   },
   "file_extension": ".py",
   "mimetype": "text/x-python",
   "name": "python",
   "nbconvert_exporter": "python",
   "pygments_lexer": "ipython3",
   "version": "3.11.7"
  }
 },
 "nbformat": 4,
 "nbformat_minor": 2
}
